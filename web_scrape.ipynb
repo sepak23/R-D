{
 "cells": [
  {
   "cell_type": "code",
   "execution_count": 1,
   "metadata": {},
   "outputs": [],
   "source": [
    "import bs4\n",
    "from urllib.request import urlopen as uReq\n",
    "from bs4 import BeautifulSoup as soup\n",
    "import re\n",
    "import pandas as pd"
   ]
  },
  {
   "cell_type": "code",
   "execution_count": 2,
   "metadata": {},
   "outputs": [],
   "source": [
    "myurl=\"https://www.newegg.com/Video-Cards-Video-Devices/Category/ID-38?Tid=6662\""
   ]
  },
  {
   "cell_type": "code",
   "execution_count": 3,
   "metadata": {},
   "outputs": [],
   "source": [
    "uClient=uReq(myurl)"
   ]
  },
  {
   "cell_type": "code",
   "execution_count": 4,
   "metadata": {},
   "outputs": [],
   "source": [
    "page_html=uClient.read()"
   ]
  },
  {
   "cell_type": "code",
   "execution_count": 6,
   "metadata": {},
   "outputs": [],
   "source": [
    "uClient.close()"
   ]
  },
  {
   "cell_type": "code",
   "execution_count": 7,
   "metadata": {},
   "outputs": [],
   "source": [
    "page_soup=soup(page_html,\"html.parser\")"
   ]
  },
  {
   "cell_type": "code",
   "execution_count": 8,
   "metadata": {},
   "outputs": [
    {
     "data": {
      "text/plain": [
       "<h1 class=\"page-title-text\">Video Cards &amp; Video Devices</h1>"
      ]
     },
     "execution_count": 8,
     "metadata": {},
     "output_type": "execute_result"
    }
   ],
   "source": [
    "page_soup.h1"
   ]
  },
  {
   "cell_type": "code",
   "execution_count": 9,
   "metadata": {},
   "outputs": [],
   "source": [
    "containers=page_soup.findAll(\"div\",{\"class\":\"item-container\"})"
   ]
  },
  {
   "cell_type": "code",
   "execution_count": 11,
   "metadata": {},
   "outputs": [
    {
     "data": {
      "text/plain": [
       "12"
      ]
     },
     "execution_count": 11,
     "metadata": {},
     "output_type": "execute_result"
    }
   ],
   "source": [
    "len(containers)"
   ]
  },
  {
   "cell_type": "code",
   "execution_count": 106,
   "metadata": {},
   "outputs": [],
   "source": [
    "filename='/Users/sepehrpiri/Documents/python_games/my_first_web_scraping.csv'"
   ]
  },
  {
   "cell_type": "code",
   "execution_count": 120,
   "metadata": {},
   "outputs": [],
   "source": [
    "brands=[]\n",
    "titles=[]\n",
    "prices=[]\n",
    "shippings=[]"
   ]
  },
  {
   "cell_type": "code",
   "execution_count": 121,
   "metadata": {},
   "outputs": [
    {
     "name": "stdout",
     "output_type": "stream",
     "text": [
      "GIGABYTE\n",
      "GIGABYTE GeForce RTX 2080 GAMING OC WHITE 8G Video Card, GV-N2080GAMINGOC WHITE-8GC\n",
      "829.99\n",
      "Free Shipping\n",
      "EVGA\n",
      "EVGA GeForce RTX 2080 XC GAMING, 08G-P4-2182-KR, 8GB GDDR6, Dual HDB Fans & RGB LED\n",
      "799.99\n",
      "Free Shipping\n",
      "MSI\n",
      "MSI Radeon RX 580 DirectX 12 RX 580 ARMOR 8G OC Video Card\n",
      "229.99\n",
      "$3.99 Shipping\n",
      "Sapphire Tech\n",
      "SAPPHIRE Radeon RX Vega 64 DirectX 12 21275-03-20G Video Card\n",
      "449.99\n",
      "$4.99 Shipping\n",
      "ASUS\n",
      "ASUS Turbo GeForce RTX 2070 DirectX 12 TURBO-RTX2070-8G Video Card\n",
      "499.99\n",
      "Free Shipping\n",
      "MSI\n",
      "MSI Radeon RX 580 DirectX 12 Radeon RX 580 8G V1 Video Card\n",
      "219.99\n",
      "Free Shipping\n",
      "ZOTAC\n",
      "ZOTAC GeForce GTX 1080 Ti AMP Edition 11GB GDDR5X 352-bit Gaming Graphics Card VR Ready 16+2 Power Phase Freeze Fan Stop IceStorm Cooling Spectra Lighting ZT-P10810D-10P\n",
      "709.99\n",
      "$4.99 Shipping\n",
      "Sapphire Tech\n",
      "Sapphire PULSE Radeon RX 580 8GB GDDR5 PCI-E Dual HDMI / DVI-D / Dual DP OC w/ Backplate (UEFI), 100411P8GOCL\n",
      "264.99\n",
      "$4.99 Shipping\n",
      "ASUS\n",
      "ASUS GeForce GTX 1080 STRIX-GTX1080-8G-GAMING Video Card\n",
      "524.99\n",
      "Free Shipping\n",
      "GIGABYTE\n",
      "GIGABYTE AORUS GeForce RTX 2080 8GB Video Card with RGB, GV-N2080AORUS-8GC\n",
      "859.99\n",
      "Free Shipping\n",
      "ASRock\n",
      "ASRock Phantom Gaming X Radeon RX 580 DirectX 12 RX580 8G OC Video Card\n",
      "239.99\n",
      "$4.99 Shipping\n",
      "XFX\n",
      "XFX GTS Black Core Edition Radeon RX 580 DirectX 12 RX-580P828D6 8GB OC+ 1405 MHz XFX Custom Backplate 256-Bit DDR5 PCI Express 3.0 CrossFireX Support Video Card\n",
      "259.99\n",
      "Free Shipping\n"
     ]
    }
   ],
   "source": [
    "for container in containers:\n",
    "    brand=container.div.div.a.img['title']\n",
    "    title=container.findAll(\"a\",{\"class\":\"item-title\"})[0].text\n",
    "    pricelist=re.findall(r'\\d+',container.div.findAll(\"li\",{\"class\":\"price-current\"})[0].text.strip())\n",
    "    price=pricelist[0]+'.'+pricelist[1]\n",
    "    shipping=container.findAll(\"li\",{\"class\":\"price-ship\"})[0].text.strip()\n",
    "    brands.append(brand)\n",
    "    titles.append(title)\n",
    "    prices.append(price)\n",
    "    shippings.append(shipping)\n",
    "\n",
    "    "
   ]
  },
  {
   "cell_type": "code",
   "execution_count": 123,
   "metadata": {},
   "outputs": [],
   "source": [
    "d = {'brand': brands,\n",
    "         'title': titles,\n",
    "         'price': prices,\n",
    "         'shipping': shippings}\n",
    "df = pd.DataFrame.from_dict(d)"
   ]
  },
  {
   "cell_type": "code",
   "execution_count": 127,
   "metadata": {},
   "outputs": [],
   "source": [
    "df.to_csv('/Users/sepehrpiri/Documents/python_games/my_first_web_scraping.csv')"
   ]
  },
  {
   "cell_type": "code",
   "execution_count": null,
   "metadata": {},
   "outputs": [],
   "source": []
  }
 ],
 "metadata": {
  "kernelspec": {
   "display_name": "Python 3",
   "language": "python",
   "name": "python3"
  },
  "language_info": {
   "codemirror_mode": {
    "name": "ipython",
    "version": 3
   },
   "file_extension": ".py",
   "mimetype": "text/x-python",
   "name": "python",
   "nbconvert_exporter": "python",
   "pygments_lexer": "ipython3",
   "version": "3.6.4"
  }
 },
 "nbformat": 4,
 "nbformat_minor": 2
}
