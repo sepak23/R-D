{
 "cells": [
  {
   "cell_type": "code",
   "execution_count": 1,
   "metadata": {},
   "outputs": [],
   "source": [
    "#importing libraries\n",
    "import bs4\n",
    "from urllib.request import urlopen as uReq\n",
    "from bs4 import BeautifulSoup as soup\n",
    "import re\n",
    "import pandas as pd"
   ]
  },
  {
   "cell_type": "code",
   "execution_count": 2,
   "metadata": {},
   "outputs": [],
   "source": [
    "#Site's url\n",
    "myurl=\"https://www.newegg.com/Video-Cards-Video-Devices/Category/ID-38?Tid=6662\""
   ]
  },
  {
   "cell_type": "code",
   "execution_count": 3,
   "metadata": {},
   "outputs": [],
   "source": [
    "uClient=uReq(myurl)"
   ]
  },
  {
   "cell_type": "code",
   "execution_count": 4,
   "metadata": {},
   "outputs": [],
   "source": [
    "page_html=uClient.read()"
   ]
  },
  {
   "cell_type": "code",
   "execution_count": 5,
   "metadata": {},
   "outputs": [],
   "source": [
    "uClient.close()"
   ]
  },
  {
   "cell_type": "code",
   "execution_count": 6,
   "metadata": {},
   "outputs": [],
   "source": [
    "page_soup=soup(page_html,\"html.parser\")"
   ]
  },
  {
   "cell_type": "code",
   "execution_count": 7,
   "metadata": {},
   "outputs": [
    {
     "data": {
      "text/plain": [
       "<h1 class=\"page-title-text\">Video Cards &amp; Video Devices</h1>"
      ]
     },
     "execution_count": 7,
     "metadata": {},
     "output_type": "execute_result"
    }
   ],
   "source": [
    "page_soup.h1"
   ]
  },
  {
   "cell_type": "code",
   "execution_count": 8,
   "metadata": {},
   "outputs": [],
   "source": [
    "containers=page_soup.findAll(\"div\",{\"class\":\"item-container\"})"
   ]
  },
  {
   "cell_type": "code",
   "execution_count": 9,
   "metadata": {},
   "outputs": [
    {
     "data": {
      "text/plain": [
       "12"
      ]
     },
     "execution_count": 9,
     "metadata": {},
     "output_type": "execute_result"
    }
   ],
   "source": [
    "len(containers)"
   ]
  },
  {
   "cell_type": "code",
   "execution_count": 10,
   "metadata": {},
   "outputs": [],
   "source": [
    "filename='/Users/sepehrpiri/Documents/python_games/my_first_web_scraping.csv'"
   ]
  },
  {
   "cell_type": "code",
   "execution_count": 11,
   "metadata": {},
   "outputs": [],
   "source": [
    "brands=[]\n",
    "titles=[]\n",
    "prices=[]\n",
    "shippings=[]"
   ]
  },
  {
   "cell_type": "code",
   "execution_count": 12,
   "metadata": {},
   "outputs": [],
   "source": [
    "for container in containers:\n",
    "    \n",
    "    brand=container.div.div.a.img['title']\n",
    "    title=container.findAll(\"a\",{\"class\":\"item-title\"})[0].text\n",
    "    pricelist=re.findall(r'\\d+',container.div.findAll(\"li\",{\"class\":\"price-current\"})[0].text.strip())\n",
    "    price=pricelist[0]+'.'+pricelist[1]\n",
    "    shipping=container.findAll(\"li\",{\"class\":\"price-ship\"})[0].text.strip()\n",
    "    brands.append(brand)\n",
    "    titles.append(title)\n",
    "    prices.append(price)\n",
    "    shippings.append(shipping)\n"
   ]
  },
  {
   "cell_type": "code",
   "execution_count": 13,
   "metadata": {},
   "outputs": [
    {
     "data": {
      "text/html": [
       "<div>\n",
       "<style scoped>\n",
       "    .dataframe tbody tr th:only-of-type {\n",
       "        vertical-align: middle;\n",
       "    }\n",
       "\n",
       "    .dataframe tbody tr th {\n",
       "        vertical-align: top;\n",
       "    }\n",
       "\n",
       "    .dataframe thead th {\n",
       "        text-align: right;\n",
       "    }\n",
       "</style>\n",
       "<table border=\"1\" class=\"dataframe\">\n",
       "  <thead>\n",
       "    <tr style=\"text-align: right;\">\n",
       "      <th></th>\n",
       "      <th>brand</th>\n",
       "      <th>price</th>\n",
       "      <th>shipping</th>\n",
       "      <th>title</th>\n",
       "    </tr>\n",
       "  </thead>\n",
       "  <tbody>\n",
       "    <tr>\n",
       "      <th>0</th>\n",
       "      <td>GIGABYTE</td>\n",
       "      <td>829.99</td>\n",
       "      <td>Free Shipping</td>\n",
       "      <td>GIGABYTE GeForce RTX 2080 GAMING OC WHITE 8G V...</td>\n",
       "    </tr>\n",
       "    <tr>\n",
       "      <th>1</th>\n",
       "      <td>EVGA</td>\n",
       "      <td>799.99</td>\n",
       "      <td>Free Shipping</td>\n",
       "      <td>EVGA GeForce RTX 2080 XC GAMING, 08G-P4-2182-K...</td>\n",
       "    </tr>\n",
       "    <tr>\n",
       "      <th>2</th>\n",
       "      <td>MSI</td>\n",
       "      <td>229.99</td>\n",
       "      <td>$3.99 Shipping</td>\n",
       "      <td>MSI Radeon RX 580 DirectX 12 RX 580 ARMOR 8G O...</td>\n",
       "    </tr>\n",
       "    <tr>\n",
       "      <th>3</th>\n",
       "      <td>Sapphire Tech</td>\n",
       "      <td>449.99</td>\n",
       "      <td>$4.99 Shipping</td>\n",
       "      <td>SAPPHIRE Radeon RX Vega 64 DirectX 12 21275-03...</td>\n",
       "    </tr>\n",
       "    <tr>\n",
       "      <th>4</th>\n",
       "      <td>ASUS</td>\n",
       "      <td>499.99</td>\n",
       "      <td>Free Shipping</td>\n",
       "      <td>ASUS Turbo GeForce RTX 2070 DirectX 12 TURBO-R...</td>\n",
       "    </tr>\n",
       "  </tbody>\n",
       "</table>\n",
       "</div>"
      ],
      "text/plain": [
       "           brand   price        shipping  \\\n",
       "0       GIGABYTE  829.99   Free Shipping   \n",
       "1           EVGA  799.99   Free Shipping   \n",
       "2            MSI  229.99  $3.99 Shipping   \n",
       "3  Sapphire Tech  449.99  $4.99 Shipping   \n",
       "4           ASUS  499.99   Free Shipping   \n",
       "\n",
       "                                               title  \n",
       "0  GIGABYTE GeForce RTX 2080 GAMING OC WHITE 8G V...  \n",
       "1  EVGA GeForce RTX 2080 XC GAMING, 08G-P4-2182-K...  \n",
       "2  MSI Radeon RX 580 DirectX 12 RX 580 ARMOR 8G O...  \n",
       "3  SAPPHIRE Radeon RX Vega 64 DirectX 12 21275-03...  \n",
       "4  ASUS Turbo GeForce RTX 2070 DirectX 12 TURBO-R...  "
      ]
     },
     "execution_count": 13,
     "metadata": {},
     "output_type": "execute_result"
    }
   ],
   "source": [
    "d = {'brand': brands, 'title': titles,'price': prices,'shipping': shippings}\n",
    "\n",
    "df = pd.DataFrame.from_dict(d)\n",
    "\n",
    "df.head()\n"
   ]
  },
  {
   "cell_type": "code",
   "execution_count": 14,
   "metadata": {},
   "outputs": [],
   "source": [
    "df.to_csv('/Users/sepehrpiri/Documents/python_games/my_first_web_scraping.csv')"
   ]
  },
  {
   "cell_type": "code",
   "execution_count": null,
   "metadata": {},
   "outputs": [],
   "source": []
  }
 ],
 "metadata": {
  "kernelspec": {
   "display_name": "Python 3",
   "language": "python",
   "name": "python3"
  },
  "language_info": {
   "codemirror_mode": {
    "name": "ipython",
    "version": 3
   },
   "file_extension": ".py",
   "mimetype": "text/x-python",
   "name": "python",
   "nbconvert_exporter": "python",
   "pygments_lexer": "ipython3",
   "version": "3.6.4"
  }
 },
 "nbformat": 4,
 "nbformat_minor": 2
}
